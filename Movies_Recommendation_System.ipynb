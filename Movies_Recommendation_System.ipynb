{
  "nbformat": 4,
  "nbformat_minor": 0,
  "metadata": {
    "colab": {
      "provenance": []
    },
    "kernelspec": {
      "name": "python3",
      "display_name": "Python 3"
    },
    "language_info": {
      "name": "python"
    }
  },
  "cells": [
    {
      "cell_type": "markdown",
      "source": [
        "# Building a Recommendation System for Movies"
      ],
      "metadata": {
        "id": "mT4mMI3nrHmV"
      }
    },
    {
      "cell_type": "markdown",
      "source": [
        "Importing the libraries which are required for the project"
      ],
      "metadata": {
        "id": "B0dni2ikqvX0"
      }
    },
    {
      "cell_type": "code",
      "execution_count": null,
      "metadata": {
        "id": "ROyD54UPNACI"
      },
      "outputs": [],
      "source": [
        "import re\n",
        "import pandas as pd\n",
        "import numpy as np\n",
        "from sklearn.metrics.pairwise import cosine_similarity\n",
        "from sklearn.feature_extraction.text import CountVectorizer\n",
        "from sklearn.model_selection import train_test_split"
      ]
    },
    {
      "cell_type": "markdown",
      "source": [
        "Loading the dataset and printing the shape of the dataset as well as printing the dataset."
      ],
      "metadata": {
        "id": "mliIBVctqlPv"
      }
    },
    {
      "cell_type": "code",
      "source": [
        "df = pd.read_csv('title.basics.tsv', sep='\\t')\n",
        "print(df.shape)\n",
        "df"
      ],
      "metadata": {
        "id": "c12XkVEPghXj",
        "colab": {
          "base_uri": "https://localhost:8080/",
          "height": 441
        },
        "outputId": "2f4130a5-96b5-46ec-de61-908d8a70b4db"
      },
      "execution_count": null,
      "outputs": [
        {
          "output_type": "stream",
          "name": "stdout",
          "text": [
            "(130064, 9)\n"
          ]
        },
        {
          "output_type": "execute_result",
          "data": {
            "text/plain": [
              "           tconst titleType                                primaryTitle  \\\n",
              "0       tt0030298   tvMovie                               Julius Caesar   \n",
              "1       tt0038309   tvMovie                              As You Like It   \n",
              "2       tt0038738   tvMovie                   A Midsummer Night's Dream   \n",
              "3       tt0039445   tvMovie                               Hamlet Part 1   \n",
              "4       tt0039618   tvMovie                      The Merchant of Venice   \n",
              "...           ...       ...                                         ...   \n",
              "130059  tt9916192   tvMovie  Danielle Darrieux: Il est poli d'être gai!   \n",
              "130060  tt9916248   tvMovie                                    Mahiwaga   \n",
              "130061  tt9916460   tvMovie                                   Pink Taxi   \n",
              "130062  tt9916560   tvMovie   March of Dimes Presents: Once Upon a Dime   \n",
              "130063  tt9916692   tvMovie             Teatroteka: Czlowiek bez twarzy   \n",
              "\n",
              "                                     originalTitle  isAdult startYear endYear  \\\n",
              "0                                    Julius Caesar        0      1938      \\N   \n",
              "1                                   As You Like It        0      1946      \\N   \n",
              "2                        A Midsummer Night's Dream        0      1946      \\N   \n",
              "3                                    Hamlet Part 1        0      1947      \\N   \n",
              "4                           The Merchant of Venice        0      1947      \\N   \n",
              "...                                            ...      ...       ...     ...   \n",
              "130059  Danielle Darrieux: Il est poli d'être gai!        0      2019      \\N   \n",
              "130060                                    Mahiwaga        0      1996      \\N   \n",
              "130061                                   Pink Taxi        0      2019      \\N   \n",
              "130062   March of Dimes Presents: Once Upon a Dime        0      1963      \\N   \n",
              "130063             Teatroteka: Czlowiek bez twarzy        0      2015      \\N   \n",
              "\n",
              "       runtimeMinutes                  genres  \n",
              "0                 101           Drama,History  \n",
              "1                  \\N                   Drama  \n",
              "2                 150                   Drama  \n",
              "3                  88                   Drama  \n",
              "4                  90                   Drama  \n",
              "...               ...                     ...  \n",
              "130059             53               Biography  \n",
              "130060             \\N  Action,Horror,Thriller  \n",
              "130061             \\N                  Comedy  \n",
              "130062             58                  Family  \n",
              "130063             66                   Drama  \n",
              "\n",
              "[130064 rows x 9 columns]"
            ],
            "text/html": [
              "\n",
              "  <div id=\"df-7f2358b3-4e49-4516-9ff9-9a160ac80011\" class=\"colab-df-container\">\n",
              "    <div>\n",
              "<style scoped>\n",
              "    .dataframe tbody tr th:only-of-type {\n",
              "        vertical-align: middle;\n",
              "    }\n",
              "\n",
              "    .dataframe tbody tr th {\n",
              "        vertical-align: top;\n",
              "    }\n",
              "\n",
              "    .dataframe thead th {\n",
              "        text-align: right;\n",
              "    }\n",
              "</style>\n",
              "<table border=\"1\" class=\"dataframe\">\n",
              "  <thead>\n",
              "    <tr style=\"text-align: right;\">\n",
              "      <th></th>\n",
              "      <th>tconst</th>\n",
              "      <th>titleType</th>\n",
              "      <th>primaryTitle</th>\n",
              "      <th>originalTitle</th>\n",
              "      <th>isAdult</th>\n",
              "      <th>startYear</th>\n",
              "      <th>endYear</th>\n",
              "      <th>runtimeMinutes</th>\n",
              "      <th>genres</th>\n",
              "    </tr>\n",
              "  </thead>\n",
              "  <tbody>\n",
              "    <tr>\n",
              "      <th>0</th>\n",
              "      <td>tt0030298</td>\n",
              "      <td>tvMovie</td>\n",
              "      <td>Julius Caesar</td>\n",
              "      <td>Julius Caesar</td>\n",
              "      <td>0</td>\n",
              "      <td>1938</td>\n",
              "      <td>\\N</td>\n",
              "      <td>101</td>\n",
              "      <td>Drama,History</td>\n",
              "    </tr>\n",
              "    <tr>\n",
              "      <th>1</th>\n",
              "      <td>tt0038309</td>\n",
              "      <td>tvMovie</td>\n",
              "      <td>As You Like It</td>\n",
              "      <td>As You Like It</td>\n",
              "      <td>0</td>\n",
              "      <td>1946</td>\n",
              "      <td>\\N</td>\n",
              "      <td>\\N</td>\n",
              "      <td>Drama</td>\n",
              "    </tr>\n",
              "    <tr>\n",
              "      <th>2</th>\n",
              "      <td>tt0038738</td>\n",
              "      <td>tvMovie</td>\n",
              "      <td>A Midsummer Night's Dream</td>\n",
              "      <td>A Midsummer Night's Dream</td>\n",
              "      <td>0</td>\n",
              "      <td>1946</td>\n",
              "      <td>\\N</td>\n",
              "      <td>150</td>\n",
              "      <td>Drama</td>\n",
              "    </tr>\n",
              "    <tr>\n",
              "      <th>3</th>\n",
              "      <td>tt0039445</td>\n",
              "      <td>tvMovie</td>\n",
              "      <td>Hamlet Part 1</td>\n",
              "      <td>Hamlet Part 1</td>\n",
              "      <td>0</td>\n",
              "      <td>1947</td>\n",
              "      <td>\\N</td>\n",
              "      <td>88</td>\n",
              "      <td>Drama</td>\n",
              "    </tr>\n",
              "    <tr>\n",
              "      <th>4</th>\n",
              "      <td>tt0039618</td>\n",
              "      <td>tvMovie</td>\n",
              "      <td>The Merchant of Venice</td>\n",
              "      <td>The Merchant of Venice</td>\n",
              "      <td>0</td>\n",
              "      <td>1947</td>\n",
              "      <td>\\N</td>\n",
              "      <td>90</td>\n",
              "      <td>Drama</td>\n",
              "    </tr>\n",
              "    <tr>\n",
              "      <th>...</th>\n",
              "      <td>...</td>\n",
              "      <td>...</td>\n",
              "      <td>...</td>\n",
              "      <td>...</td>\n",
              "      <td>...</td>\n",
              "      <td>...</td>\n",
              "      <td>...</td>\n",
              "      <td>...</td>\n",
              "      <td>...</td>\n",
              "    </tr>\n",
              "    <tr>\n",
              "      <th>130059</th>\n",
              "      <td>tt9916192</td>\n",
              "      <td>tvMovie</td>\n",
              "      <td>Danielle Darrieux: Il est poli d'être gai!</td>\n",
              "      <td>Danielle Darrieux: Il est poli d'être gai!</td>\n",
              "      <td>0</td>\n",
              "      <td>2019</td>\n",
              "      <td>\\N</td>\n",
              "      <td>53</td>\n",
              "      <td>Biography</td>\n",
              "    </tr>\n",
              "    <tr>\n",
              "      <th>130060</th>\n",
              "      <td>tt9916248</td>\n",
              "      <td>tvMovie</td>\n",
              "      <td>Mahiwaga</td>\n",
              "      <td>Mahiwaga</td>\n",
              "      <td>0</td>\n",
              "      <td>1996</td>\n",
              "      <td>\\N</td>\n",
              "      <td>\\N</td>\n",
              "      <td>Action,Horror,Thriller</td>\n",
              "    </tr>\n",
              "    <tr>\n",
              "      <th>130061</th>\n",
              "      <td>tt9916460</td>\n",
              "      <td>tvMovie</td>\n",
              "      <td>Pink Taxi</td>\n",
              "      <td>Pink Taxi</td>\n",
              "      <td>0</td>\n",
              "      <td>2019</td>\n",
              "      <td>\\N</td>\n",
              "      <td>\\N</td>\n",
              "      <td>Comedy</td>\n",
              "    </tr>\n",
              "    <tr>\n",
              "      <th>130062</th>\n",
              "      <td>tt9916560</td>\n",
              "      <td>tvMovie</td>\n",
              "      <td>March of Dimes Presents: Once Upon a Dime</td>\n",
              "      <td>March of Dimes Presents: Once Upon a Dime</td>\n",
              "      <td>0</td>\n",
              "      <td>1963</td>\n",
              "      <td>\\N</td>\n",
              "      <td>58</td>\n",
              "      <td>Family</td>\n",
              "    </tr>\n",
              "    <tr>\n",
              "      <th>130063</th>\n",
              "      <td>tt9916692</td>\n",
              "      <td>tvMovie</td>\n",
              "      <td>Teatroteka: Czlowiek bez twarzy</td>\n",
              "      <td>Teatroteka: Czlowiek bez twarzy</td>\n",
              "      <td>0</td>\n",
              "      <td>2015</td>\n",
              "      <td>\\N</td>\n",
              "      <td>66</td>\n",
              "      <td>Drama</td>\n",
              "    </tr>\n",
              "  </tbody>\n",
              "</table>\n",
              "<p>130064 rows × 9 columns</p>\n",
              "</div>\n",
              "    <div class=\"colab-df-buttons\">\n",
              "\n",
              "  <div class=\"colab-df-container\">\n",
              "    <button class=\"colab-df-convert\" onclick=\"convertToInteractive('df-7f2358b3-4e49-4516-9ff9-9a160ac80011')\"\n",
              "            title=\"Convert this dataframe to an interactive table.\"\n",
              "            style=\"display:none;\">\n",
              "\n",
              "  <svg xmlns=\"http://www.w3.org/2000/svg\" height=\"24px\" viewBox=\"0 -960 960 960\">\n",
              "    <path d=\"M120-120v-720h720v720H120Zm60-500h600v-160H180v160Zm220 220h160v-160H400v160Zm0 220h160v-160H400v160ZM180-400h160v-160H180v160Zm440 0h160v-160H620v160ZM180-180h160v-160H180v160Zm440 0h160v-160H620v160Z\"/>\n",
              "  </svg>\n",
              "    </button>\n",
              "\n",
              "  <style>\n",
              "    .colab-df-container {\n",
              "      display:flex;\n",
              "      gap: 12px;\n",
              "    }\n",
              "\n",
              "    .colab-df-convert {\n",
              "      background-color: #E8F0FE;\n",
              "      border: none;\n",
              "      border-radius: 50%;\n",
              "      cursor: pointer;\n",
              "      display: none;\n",
              "      fill: #1967D2;\n",
              "      height: 32px;\n",
              "      padding: 0 0 0 0;\n",
              "      width: 32px;\n",
              "    }\n",
              "\n",
              "    .colab-df-convert:hover {\n",
              "      background-color: #E2EBFA;\n",
              "      box-shadow: 0px 1px 2px rgba(60, 64, 67, 0.3), 0px 1px 3px 1px rgba(60, 64, 67, 0.15);\n",
              "      fill: #174EA6;\n",
              "    }\n",
              "\n",
              "    .colab-df-buttons div {\n",
              "      margin-bottom: 4px;\n",
              "    }\n",
              "\n",
              "    [theme=dark] .colab-df-convert {\n",
              "      background-color: #3B4455;\n",
              "      fill: #D2E3FC;\n",
              "    }\n",
              "\n",
              "    [theme=dark] .colab-df-convert:hover {\n",
              "      background-color: #434B5C;\n",
              "      box-shadow: 0px 1px 3px 1px rgba(0, 0, 0, 0.15);\n",
              "      filter: drop-shadow(0px 1px 2px rgba(0, 0, 0, 0.3));\n",
              "      fill: #FFFFFF;\n",
              "    }\n",
              "  </style>\n",
              "\n",
              "    <script>\n",
              "      const buttonEl =\n",
              "        document.querySelector('#df-7f2358b3-4e49-4516-9ff9-9a160ac80011 button.colab-df-convert');\n",
              "      buttonEl.style.display =\n",
              "        google.colab.kernel.accessAllowed ? 'block' : 'none';\n",
              "\n",
              "      async function convertToInteractive(key) {\n",
              "        const element = document.querySelector('#df-7f2358b3-4e49-4516-9ff9-9a160ac80011');\n",
              "        const dataTable =\n",
              "          await google.colab.kernel.invokeFunction('convertToInteractive',\n",
              "                                                    [key], {});\n",
              "        if (!dataTable) return;\n",
              "\n",
              "        const docLinkHtml = 'Like what you see? Visit the ' +\n",
              "          '<a target=\"_blank\" href=https://colab.research.google.com/notebooks/data_table.ipynb>data table notebook</a>'\n",
              "          + ' to learn more about interactive tables.';\n",
              "        element.innerHTML = '';\n",
              "        dataTable['output_type'] = 'display_data';\n",
              "        await google.colab.output.renderOutput(dataTable, element);\n",
              "        const docLink = document.createElement('div');\n",
              "        docLink.innerHTML = docLinkHtml;\n",
              "        element.appendChild(docLink);\n",
              "      }\n",
              "    </script>\n",
              "  </div>\n",
              "\n",
              "\n",
              "<div id=\"df-34604037-0666-48e8-aa2e-28390303efec\">\n",
              "  <button class=\"colab-df-quickchart\" onclick=\"quickchart('df-34604037-0666-48e8-aa2e-28390303efec')\"\n",
              "            title=\"Suggest charts.\"\n",
              "            style=\"display:none;\">\n",
              "\n",
              "<svg xmlns=\"http://www.w3.org/2000/svg\" height=\"24px\"viewBox=\"0 0 24 24\"\n",
              "     width=\"24px\">\n",
              "    <g>\n",
              "        <path d=\"M19 3H5c-1.1 0-2 .9-2 2v14c0 1.1.9 2 2 2h14c1.1 0 2-.9 2-2V5c0-1.1-.9-2-2-2zM9 17H7v-7h2v7zm4 0h-2V7h2v10zm4 0h-2v-4h2v4z\"/>\n",
              "    </g>\n",
              "</svg>\n",
              "  </button>\n",
              "\n",
              "<style>\n",
              "  .colab-df-quickchart {\n",
              "      --bg-color: #E8F0FE;\n",
              "      --fill-color: #1967D2;\n",
              "      --hover-bg-color: #E2EBFA;\n",
              "      --hover-fill-color: #174EA6;\n",
              "      --disabled-fill-color: #AAA;\n",
              "      --disabled-bg-color: #DDD;\n",
              "  }\n",
              "\n",
              "  [theme=dark] .colab-df-quickchart {\n",
              "      --bg-color: #3B4455;\n",
              "      --fill-color: #D2E3FC;\n",
              "      --hover-bg-color: #434B5C;\n",
              "      --hover-fill-color: #FFFFFF;\n",
              "      --disabled-bg-color: #3B4455;\n",
              "      --disabled-fill-color: #666;\n",
              "  }\n",
              "\n",
              "  .colab-df-quickchart {\n",
              "    background-color: var(--bg-color);\n",
              "    border: none;\n",
              "    border-radius: 50%;\n",
              "    cursor: pointer;\n",
              "    display: none;\n",
              "    fill: var(--fill-color);\n",
              "    height: 32px;\n",
              "    padding: 0;\n",
              "    width: 32px;\n",
              "  }\n",
              "\n",
              "  .colab-df-quickchart:hover {\n",
              "    background-color: var(--hover-bg-color);\n",
              "    box-shadow: 0 1px 2px rgba(60, 64, 67, 0.3), 0 1px 3px 1px rgba(60, 64, 67, 0.15);\n",
              "    fill: var(--button-hover-fill-color);\n",
              "  }\n",
              "\n",
              "  .colab-df-quickchart-complete:disabled,\n",
              "  .colab-df-quickchart-complete:disabled:hover {\n",
              "    background-color: var(--disabled-bg-color);\n",
              "    fill: var(--disabled-fill-color);\n",
              "    box-shadow: none;\n",
              "  }\n",
              "\n",
              "  .colab-df-spinner {\n",
              "    border: 2px solid var(--fill-color);\n",
              "    border-color: transparent;\n",
              "    border-bottom-color: var(--fill-color);\n",
              "    animation:\n",
              "      spin 1s steps(1) infinite;\n",
              "  }\n",
              "\n",
              "  @keyframes spin {\n",
              "    0% {\n",
              "      border-color: transparent;\n",
              "      border-bottom-color: var(--fill-color);\n",
              "      border-left-color: var(--fill-color);\n",
              "    }\n",
              "    20% {\n",
              "      border-color: transparent;\n",
              "      border-left-color: var(--fill-color);\n",
              "      border-top-color: var(--fill-color);\n",
              "    }\n",
              "    30% {\n",
              "      border-color: transparent;\n",
              "      border-left-color: var(--fill-color);\n",
              "      border-top-color: var(--fill-color);\n",
              "      border-right-color: var(--fill-color);\n",
              "    }\n",
              "    40% {\n",
              "      border-color: transparent;\n",
              "      border-right-color: var(--fill-color);\n",
              "      border-top-color: var(--fill-color);\n",
              "    }\n",
              "    60% {\n",
              "      border-color: transparent;\n",
              "      border-right-color: var(--fill-color);\n",
              "    }\n",
              "    80% {\n",
              "      border-color: transparent;\n",
              "      border-right-color: var(--fill-color);\n",
              "      border-bottom-color: var(--fill-color);\n",
              "    }\n",
              "    90% {\n",
              "      border-color: transparent;\n",
              "      border-bottom-color: var(--fill-color);\n",
              "    }\n",
              "  }\n",
              "</style>\n",
              "\n",
              "  <script>\n",
              "    async function quickchart(key) {\n",
              "      const quickchartButtonEl =\n",
              "        document.querySelector('#' + key + ' button');\n",
              "      quickchartButtonEl.disabled = true;  // To prevent multiple clicks.\n",
              "      quickchartButtonEl.classList.add('colab-df-spinner');\n",
              "      try {\n",
              "        const charts = await google.colab.kernel.invokeFunction(\n",
              "            'suggestCharts', [key], {});\n",
              "      } catch (error) {\n",
              "        console.error('Error during call to suggestCharts:', error);\n",
              "      }\n",
              "      quickchartButtonEl.classList.remove('colab-df-spinner');\n",
              "      quickchartButtonEl.classList.add('colab-df-quickchart-complete');\n",
              "    }\n",
              "    (() => {\n",
              "      let quickchartButtonEl =\n",
              "        document.querySelector('#df-34604037-0666-48e8-aa2e-28390303efec button');\n",
              "      quickchartButtonEl.style.display =\n",
              "        google.colab.kernel.accessAllowed ? 'block' : 'none';\n",
              "    })();\n",
              "  </script>\n",
              "</div>\n",
              "    </div>\n",
              "  </div>\n"
            ]
          },
          "metadata": {},
          "execution_count": 2
        }
      ]
    },
    {
      "cell_type": "markdown",
      "source": [
        "Using info method to see is any null value present or not, datatype of each column. Statically all are categorical"
      ],
      "metadata": {
        "id": "I3ZCxWDukITr"
      }
    },
    {
      "cell_type": "code",
      "source": [
        "df.info()"
      ],
      "metadata": {
        "id": "GWPwGoEZhbJR",
        "colab": {
          "base_uri": "https://localhost:8080/"
        },
        "outputId": "8ceb7f3a-2ee8-455a-efda-ed8d1dd111d5"
      },
      "execution_count": null,
      "outputs": [
        {
          "output_type": "stream",
          "name": "stdout",
          "text": [
            "<class 'pandas.core.frame.DataFrame'>\n",
            "RangeIndex: 130064 entries, 0 to 130063\n",
            "Data columns (total 9 columns):\n",
            " #   Column          Non-Null Count   Dtype \n",
            "---  ------          --------------   ----- \n",
            " 0   tconst          130064 non-null  object\n",
            " 1   titleType       130064 non-null  object\n",
            " 2   primaryTitle    130064 non-null  object\n",
            " 3   originalTitle   130064 non-null  object\n",
            " 4   isAdult         130064 non-null  int64 \n",
            " 5   startYear       130064 non-null  object\n",
            " 6   endYear         130064 non-null  object\n",
            " 7   runtimeMinutes  130064 non-null  object\n",
            " 8   genres          130064 non-null  object\n",
            "dtypes: int64(1), object(8)\n",
            "memory usage: 8.9+ MB\n"
          ]
        }
      ]
    },
    {
      "cell_type": "markdown",
      "source": [
        "Important columns for Recommdataion"
      ],
      "metadata": {
        "id": "xNa36zAolRxy"
      }
    },
    {
      "cell_type": "code",
      "source": [
        "column = ['genres', 'originalTitle', 'primaryTitle', 'isAdult']"
      ],
      "metadata": {
        "id": "zHKW3BIjkAOC"
      },
      "execution_count": null,
      "outputs": []
    },
    {
      "cell_type": "markdown",
      "source": [
        "Splitting the dataset into training data and testing data\n",
        "\n",
        "In testing data we are including the Movie_id to identify each row which works as index"
      ],
      "metadata": {
        "id": "H06R_g-aqH3I"
      }
    },
    {
      "cell_type": "code",
      "source": [
        "train, test = train_test_split(df, test_size=0.1, shuffle = False)\n",
        "test['Movie_id'] = range(0, test.shape[0])\n",
        "test = test.set_index('Movie_id')\n",
        "test.shape"
      ],
      "metadata": {
        "id": "AuPJkD_yn4Py",
        "colab": {
          "base_uri": "https://localhost:8080/"
        },
        "outputId": "236c8dbf-3004-4b6c-9255-a1769cef891a"
      },
      "execution_count": null,
      "outputs": [
        {
          "output_type": "execute_result",
          "data": {
            "text/plain": [
              "(13007, 9)"
            ]
          },
          "metadata": {},
          "execution_count": 5
        }
      ]
    },
    {
      "cell_type": "markdown",
      "source": [
        "Printing the testing data"
      ],
      "metadata": {
        "id": "a1djTLzXrDfp"
      }
    },
    {
      "cell_type": "code",
      "source": [
        "data = test[column]"
      ],
      "metadata": {
        "id": "LHYa0qZzmMc1"
      },
      "execution_count": null,
      "outputs": []
    },
    {
      "cell_type": "markdown",
      "source": [
        "Checking if any rows contain null values in any column so we are dropping those column"
      ],
      "metadata": {
        "id": "tPXqOZarrTT8"
      }
    },
    {
      "cell_type": "code",
      "source": [
        "if data[column].isnull().values.any():\n",
        "    test = data.dropna()\n",
        "data[column].isnull().values.any()"
      ],
      "metadata": {
        "id": "raY__2qErX6_",
        "colab": {
          "base_uri": "https://localhost:8080/"
        },
        "outputId": "a878ed80-4bfa-45aa-f335-f2cf2b7040df"
      },
      "execution_count": null,
      "outputs": [
        {
          "output_type": "execute_result",
          "data": {
            "text/plain": [
              "False"
            ]
          },
          "metadata": {},
          "execution_count": 7
        }
      ]
    },
    {
      "cell_type": "markdown",
      "source": [
        "Combining the important feature in a single column we are doing this to reduce the processing time"
      ],
      "metadata": {
        "id": "6svGKu-isbUX"
      }
    },
    {
      "cell_type": "code",
      "source": [
        "# data['Combine'] = data['genres']+\" \"+data['originalTitle']+' '+data['primaryTitle']+\" \"+data['isAdult'].map(str)+\" \"+data['startYear']"
      ],
      "metadata": {
        "id": "Qjc6olBpsVUE"
      },
      "execution_count": null,
      "outputs": []
    },
    {
      "cell_type": "code",
      "source": [
        "def get_important_features(data):\n",
        "    important_feature = []\n",
        "    for index, row in data.iterrows():\n",
        "        new_column = re.sub('[^A-Za-z0-9]+', ' ',row['genres'])\\\n",
        "        +' '+re.sub('[^A-Za-z0-9]+', ' ',row['originalTitle'])\\\n",
        "        +' '+re.sub('[^A-Za-z0-9]+', ' ',row['primaryTitle'])\\\n",
        "        +' '+str(row['isAdult'])\n",
        "        important_feature.append(new_column)\n",
        "    return important_feature"
      ],
      "metadata": {
        "id": "DaM4CAHpEWNZ"
      },
      "execution_count": null,
      "outputs": []
    },
    {
      "cell_type": "markdown",
      "source": [
        "Adding all the merged columns and naming it as Important features"
      ],
      "metadata": {
        "id": "1ZlK9ZVLdCbQ"
      }
    },
    {
      "cell_type": "code",
      "source": [
        "test['Important Features'] = get_important_features(test)"
      ],
      "metadata": {
        "id": "FczsWg9tFb06"
      },
      "execution_count": null,
      "outputs": []
    },
    {
      "cell_type": "code",
      "source": [
        "test"
      ],
      "metadata": {
        "id": "nkvwBoQm08_s",
        "colab": {
          "base_uri": "https://localhost:8080/",
          "height": 594
        },
        "outputId": "e3981a35-45cc-4464-9e9a-dc2cce623bfd"
      },
      "execution_count": null,
      "outputs": [
        {
          "output_type": "execute_result",
          "data": {
            "text/plain": [
              "             tconst titleType                                primaryTitle  \\\n",
              "Movie_id                                                                    \n",
              "0         tt6908630   tvMovie                      Broadcast Battleground   \n",
              "1         tt6908858   tvMovie                             Der Islamreport   \n",
              "2         tt6909136   tvMovie                                    EquinoXe   \n",
              "3         tt6909272   tvMovie               The Sheriff and the Astronaut   \n",
              "4         tt6909598   tvMovie                 Moonys Kindchen weint nicht   \n",
              "...             ...       ...                                         ...   \n",
              "13002     tt9916192   tvMovie  Danielle Darrieux: Il est poli d'être gai!   \n",
              "13003     tt9916248   tvMovie                                    Mahiwaga   \n",
              "13004     tt9916460   tvMovie                                   Pink Taxi   \n",
              "13005     tt9916560   tvMovie   March of Dimes Presents: Once Upon a Dime   \n",
              "13006     tt9916692   tvMovie             Teatroteka: Czlowiek bez twarzy   \n",
              "\n",
              "                                       originalTitle  isAdult startYear  \\\n",
              "Movie_id                                                                  \n",
              "0                             Broadcast Battleground        0      2014   \n",
              "1                                    Der Islamreport        0      2016   \n",
              "2                                           EquinoXe        1      2017   \n",
              "3                      The Sheriff and the Astronaut        0      1984   \n",
              "4                        Moonys Kindchen weint nicht        0      1961   \n",
              "...                                              ...      ...       ...   \n",
              "13002     Danielle Darrieux: Il est poli d'être gai!        0      2019   \n",
              "13003                                       Mahiwaga        0      1996   \n",
              "13004                                      Pink Taxi        0      2019   \n",
              "13005      March of Dimes Presents: Once Upon a Dime        0      1963   \n",
              "13006                Teatroteka: Czlowiek bez twarzy        0      2015   \n",
              "\n",
              "         endYear runtimeMinutes                  genres  \\\n",
              "Movie_id                                                  \n",
              "0             \\N             \\N                  Comedy   \n",
              "1             \\N             45             Documentary   \n",
              "2             \\N             75                   Adult   \n",
              "3             \\N             \\N                  Action   \n",
              "4             \\N             30                      \\N   \n",
              "...          ...            ...                     ...   \n",
              "13002         \\N             53               Biography   \n",
              "13003         \\N             \\N  Action,Horror,Thriller   \n",
              "13004         \\N             \\N                  Comedy   \n",
              "13005         \\N             58                  Family   \n",
              "13006         \\N             66                   Drama   \n",
              "\n",
              "                                         Important Features  \n",
              "Movie_id                                                     \n",
              "0         Comedy Broadcast Battleground Broadcast Battle...  \n",
              "1             Documentary Der Islamreport Der Islamreport 0  \n",
              "2                                 Adult EquinoXe EquinoXe 1  \n",
              "3         Action The Sheriff and the Astronaut The Sheri...  \n",
              "4          N Moonys Kindchen weint nicht Moonys Kindchen...  \n",
              "...                                                     ...  \n",
              "13002     Biography Danielle Darrieux Il est poli d tre ...  \n",
              "13003            Action Horror Thriller Mahiwaga Mahiwaga 0  \n",
              "13004                          Comedy Pink Taxi Pink Taxi 0  \n",
              "13005     Family March of Dimes Presents Once Upon a Dim...  \n",
              "13006     Drama Teatroteka Czlowiek bez twarzy Teatrotek...  \n",
              "\n",
              "[13007 rows x 10 columns]"
            ],
            "text/html": [
              "\n",
              "  <div id=\"df-7f969ae8-5492-45fd-b6e0-71238789b061\" class=\"colab-df-container\">\n",
              "    <div>\n",
              "<style scoped>\n",
              "    .dataframe tbody tr th:only-of-type {\n",
              "        vertical-align: middle;\n",
              "    }\n",
              "\n",
              "    .dataframe tbody tr th {\n",
              "        vertical-align: top;\n",
              "    }\n",
              "\n",
              "    .dataframe thead th {\n",
              "        text-align: right;\n",
              "    }\n",
              "</style>\n",
              "<table border=\"1\" class=\"dataframe\">\n",
              "  <thead>\n",
              "    <tr style=\"text-align: right;\">\n",
              "      <th></th>\n",
              "      <th>tconst</th>\n",
              "      <th>titleType</th>\n",
              "      <th>primaryTitle</th>\n",
              "      <th>originalTitle</th>\n",
              "      <th>isAdult</th>\n",
              "      <th>startYear</th>\n",
              "      <th>endYear</th>\n",
              "      <th>runtimeMinutes</th>\n",
              "      <th>genres</th>\n",
              "      <th>Important Features</th>\n",
              "    </tr>\n",
              "    <tr>\n",
              "      <th>Movie_id</th>\n",
              "      <th></th>\n",
              "      <th></th>\n",
              "      <th></th>\n",
              "      <th></th>\n",
              "      <th></th>\n",
              "      <th></th>\n",
              "      <th></th>\n",
              "      <th></th>\n",
              "      <th></th>\n",
              "      <th></th>\n",
              "    </tr>\n",
              "  </thead>\n",
              "  <tbody>\n",
              "    <tr>\n",
              "      <th>0</th>\n",
              "      <td>tt6908630</td>\n",
              "      <td>tvMovie</td>\n",
              "      <td>Broadcast Battleground</td>\n",
              "      <td>Broadcast Battleground</td>\n",
              "      <td>0</td>\n",
              "      <td>2014</td>\n",
              "      <td>\\N</td>\n",
              "      <td>\\N</td>\n",
              "      <td>Comedy</td>\n",
              "      <td>Comedy Broadcast Battleground Broadcast Battle...</td>\n",
              "    </tr>\n",
              "    <tr>\n",
              "      <th>1</th>\n",
              "      <td>tt6908858</td>\n",
              "      <td>tvMovie</td>\n",
              "      <td>Der Islamreport</td>\n",
              "      <td>Der Islamreport</td>\n",
              "      <td>0</td>\n",
              "      <td>2016</td>\n",
              "      <td>\\N</td>\n",
              "      <td>45</td>\n",
              "      <td>Documentary</td>\n",
              "      <td>Documentary Der Islamreport Der Islamreport 0</td>\n",
              "    </tr>\n",
              "    <tr>\n",
              "      <th>2</th>\n",
              "      <td>tt6909136</td>\n",
              "      <td>tvMovie</td>\n",
              "      <td>EquinoXe</td>\n",
              "      <td>EquinoXe</td>\n",
              "      <td>1</td>\n",
              "      <td>2017</td>\n",
              "      <td>\\N</td>\n",
              "      <td>75</td>\n",
              "      <td>Adult</td>\n",
              "      <td>Adult EquinoXe EquinoXe 1</td>\n",
              "    </tr>\n",
              "    <tr>\n",
              "      <th>3</th>\n",
              "      <td>tt6909272</td>\n",
              "      <td>tvMovie</td>\n",
              "      <td>The Sheriff and the Astronaut</td>\n",
              "      <td>The Sheriff and the Astronaut</td>\n",
              "      <td>0</td>\n",
              "      <td>1984</td>\n",
              "      <td>\\N</td>\n",
              "      <td>\\N</td>\n",
              "      <td>Action</td>\n",
              "      <td>Action The Sheriff and the Astronaut The Sheri...</td>\n",
              "    </tr>\n",
              "    <tr>\n",
              "      <th>4</th>\n",
              "      <td>tt6909598</td>\n",
              "      <td>tvMovie</td>\n",
              "      <td>Moonys Kindchen weint nicht</td>\n",
              "      <td>Moonys Kindchen weint nicht</td>\n",
              "      <td>0</td>\n",
              "      <td>1961</td>\n",
              "      <td>\\N</td>\n",
              "      <td>30</td>\n",
              "      <td>\\N</td>\n",
              "      <td>N Moonys Kindchen weint nicht Moonys Kindchen...</td>\n",
              "    </tr>\n",
              "    <tr>\n",
              "      <th>...</th>\n",
              "      <td>...</td>\n",
              "      <td>...</td>\n",
              "      <td>...</td>\n",
              "      <td>...</td>\n",
              "      <td>...</td>\n",
              "      <td>...</td>\n",
              "      <td>...</td>\n",
              "      <td>...</td>\n",
              "      <td>...</td>\n",
              "      <td>...</td>\n",
              "    </tr>\n",
              "    <tr>\n",
              "      <th>13002</th>\n",
              "      <td>tt9916192</td>\n",
              "      <td>tvMovie</td>\n",
              "      <td>Danielle Darrieux: Il est poli d'être gai!</td>\n",
              "      <td>Danielle Darrieux: Il est poli d'être gai!</td>\n",
              "      <td>0</td>\n",
              "      <td>2019</td>\n",
              "      <td>\\N</td>\n",
              "      <td>53</td>\n",
              "      <td>Biography</td>\n",
              "      <td>Biography Danielle Darrieux Il est poli d tre ...</td>\n",
              "    </tr>\n",
              "    <tr>\n",
              "      <th>13003</th>\n",
              "      <td>tt9916248</td>\n",
              "      <td>tvMovie</td>\n",
              "      <td>Mahiwaga</td>\n",
              "      <td>Mahiwaga</td>\n",
              "      <td>0</td>\n",
              "      <td>1996</td>\n",
              "      <td>\\N</td>\n",
              "      <td>\\N</td>\n",
              "      <td>Action,Horror,Thriller</td>\n",
              "      <td>Action Horror Thriller Mahiwaga Mahiwaga 0</td>\n",
              "    </tr>\n",
              "    <tr>\n",
              "      <th>13004</th>\n",
              "      <td>tt9916460</td>\n",
              "      <td>tvMovie</td>\n",
              "      <td>Pink Taxi</td>\n",
              "      <td>Pink Taxi</td>\n",
              "      <td>0</td>\n",
              "      <td>2019</td>\n",
              "      <td>\\N</td>\n",
              "      <td>\\N</td>\n",
              "      <td>Comedy</td>\n",
              "      <td>Comedy Pink Taxi Pink Taxi 0</td>\n",
              "    </tr>\n",
              "    <tr>\n",
              "      <th>13005</th>\n",
              "      <td>tt9916560</td>\n",
              "      <td>tvMovie</td>\n",
              "      <td>March of Dimes Presents: Once Upon a Dime</td>\n",
              "      <td>March of Dimes Presents: Once Upon a Dime</td>\n",
              "      <td>0</td>\n",
              "      <td>1963</td>\n",
              "      <td>\\N</td>\n",
              "      <td>58</td>\n",
              "      <td>Family</td>\n",
              "      <td>Family March of Dimes Presents Once Upon a Dim...</td>\n",
              "    </tr>\n",
              "    <tr>\n",
              "      <th>13006</th>\n",
              "      <td>tt9916692</td>\n",
              "      <td>tvMovie</td>\n",
              "      <td>Teatroteka: Czlowiek bez twarzy</td>\n",
              "      <td>Teatroteka: Czlowiek bez twarzy</td>\n",
              "      <td>0</td>\n",
              "      <td>2015</td>\n",
              "      <td>\\N</td>\n",
              "      <td>66</td>\n",
              "      <td>Drama</td>\n",
              "      <td>Drama Teatroteka Czlowiek bez twarzy Teatrotek...</td>\n",
              "    </tr>\n",
              "  </tbody>\n",
              "</table>\n",
              "<p>13007 rows × 10 columns</p>\n",
              "</div>\n",
              "    <div class=\"colab-df-buttons\">\n",
              "\n",
              "  <div class=\"colab-df-container\">\n",
              "    <button class=\"colab-df-convert\" onclick=\"convertToInteractive('df-7f969ae8-5492-45fd-b6e0-71238789b061')\"\n",
              "            title=\"Convert this dataframe to an interactive table.\"\n",
              "            style=\"display:none;\">\n",
              "\n",
              "  <svg xmlns=\"http://www.w3.org/2000/svg\" height=\"24px\" viewBox=\"0 -960 960 960\">\n",
              "    <path d=\"M120-120v-720h720v720H120Zm60-500h600v-160H180v160Zm220 220h160v-160H400v160Zm0 220h160v-160H400v160ZM180-400h160v-160H180v160Zm440 0h160v-160H620v160ZM180-180h160v-160H180v160Zm440 0h160v-160H620v160Z\"/>\n",
              "  </svg>\n",
              "    </button>\n",
              "\n",
              "  <style>\n",
              "    .colab-df-container {\n",
              "      display:flex;\n",
              "      gap: 12px;\n",
              "    }\n",
              "\n",
              "    .colab-df-convert {\n",
              "      background-color: #E8F0FE;\n",
              "      border: none;\n",
              "      border-radius: 50%;\n",
              "      cursor: pointer;\n",
              "      display: none;\n",
              "      fill: #1967D2;\n",
              "      height: 32px;\n",
              "      padding: 0 0 0 0;\n",
              "      width: 32px;\n",
              "    }\n",
              "\n",
              "    .colab-df-convert:hover {\n",
              "      background-color: #E2EBFA;\n",
              "      box-shadow: 0px 1px 2px rgba(60, 64, 67, 0.3), 0px 1px 3px 1px rgba(60, 64, 67, 0.15);\n",
              "      fill: #174EA6;\n",
              "    }\n",
              "\n",
              "    .colab-df-buttons div {\n",
              "      margin-bottom: 4px;\n",
              "    }\n",
              "\n",
              "    [theme=dark] .colab-df-convert {\n",
              "      background-color: #3B4455;\n",
              "      fill: #D2E3FC;\n",
              "    }\n",
              "\n",
              "    [theme=dark] .colab-df-convert:hover {\n",
              "      background-color: #434B5C;\n",
              "      box-shadow: 0px 1px 3px 1px rgba(0, 0, 0, 0.15);\n",
              "      filter: drop-shadow(0px 1px 2px rgba(0, 0, 0, 0.3));\n",
              "      fill: #FFFFFF;\n",
              "    }\n",
              "  </style>\n",
              "\n",
              "    <script>\n",
              "      const buttonEl =\n",
              "        document.querySelector('#df-7f969ae8-5492-45fd-b6e0-71238789b061 button.colab-df-convert');\n",
              "      buttonEl.style.display =\n",
              "        google.colab.kernel.accessAllowed ? 'block' : 'none';\n",
              "\n",
              "      async function convertToInteractive(key) {\n",
              "        const element = document.querySelector('#df-7f969ae8-5492-45fd-b6e0-71238789b061');\n",
              "        const dataTable =\n",
              "          await google.colab.kernel.invokeFunction('convertToInteractive',\n",
              "                                                    [key], {});\n",
              "        if (!dataTable) return;\n",
              "\n",
              "        const docLinkHtml = 'Like what you see? Visit the ' +\n",
              "          '<a target=\"_blank\" href=https://colab.research.google.com/notebooks/data_table.ipynb>data table notebook</a>'\n",
              "          + ' to learn more about interactive tables.';\n",
              "        element.innerHTML = '';\n",
              "        dataTable['output_type'] = 'display_data';\n",
              "        await google.colab.output.renderOutput(dataTable, element);\n",
              "        const docLink = document.createElement('div');\n",
              "        docLink.innerHTML = docLinkHtml;\n",
              "        element.appendChild(docLink);\n",
              "      }\n",
              "    </script>\n",
              "  </div>\n",
              "\n",
              "\n",
              "<div id=\"df-e1eb08e4-1707-4d8e-80a1-5dbd4e536676\">\n",
              "  <button class=\"colab-df-quickchart\" onclick=\"quickchart('df-e1eb08e4-1707-4d8e-80a1-5dbd4e536676')\"\n",
              "            title=\"Suggest charts.\"\n",
              "            style=\"display:none;\">\n",
              "\n",
              "<svg xmlns=\"http://www.w3.org/2000/svg\" height=\"24px\"viewBox=\"0 0 24 24\"\n",
              "     width=\"24px\">\n",
              "    <g>\n",
              "        <path d=\"M19 3H5c-1.1 0-2 .9-2 2v14c0 1.1.9 2 2 2h14c1.1 0 2-.9 2-2V5c0-1.1-.9-2-2-2zM9 17H7v-7h2v7zm4 0h-2V7h2v10zm4 0h-2v-4h2v4z\"/>\n",
              "    </g>\n",
              "</svg>\n",
              "  </button>\n",
              "\n",
              "<style>\n",
              "  .colab-df-quickchart {\n",
              "      --bg-color: #E8F0FE;\n",
              "      --fill-color: #1967D2;\n",
              "      --hover-bg-color: #E2EBFA;\n",
              "      --hover-fill-color: #174EA6;\n",
              "      --disabled-fill-color: #AAA;\n",
              "      --disabled-bg-color: #DDD;\n",
              "  }\n",
              "\n",
              "  [theme=dark] .colab-df-quickchart {\n",
              "      --bg-color: #3B4455;\n",
              "      --fill-color: #D2E3FC;\n",
              "      --hover-bg-color: #434B5C;\n",
              "      --hover-fill-color: #FFFFFF;\n",
              "      --disabled-bg-color: #3B4455;\n",
              "      --disabled-fill-color: #666;\n",
              "  }\n",
              "\n",
              "  .colab-df-quickchart {\n",
              "    background-color: var(--bg-color);\n",
              "    border: none;\n",
              "    border-radius: 50%;\n",
              "    cursor: pointer;\n",
              "    display: none;\n",
              "    fill: var(--fill-color);\n",
              "    height: 32px;\n",
              "    padding: 0;\n",
              "    width: 32px;\n",
              "  }\n",
              "\n",
              "  .colab-df-quickchart:hover {\n",
              "    background-color: var(--hover-bg-color);\n",
              "    box-shadow: 0 1px 2px rgba(60, 64, 67, 0.3), 0 1px 3px 1px rgba(60, 64, 67, 0.15);\n",
              "    fill: var(--button-hover-fill-color);\n",
              "  }\n",
              "\n",
              "  .colab-df-quickchart-complete:disabled,\n",
              "  .colab-df-quickchart-complete:disabled:hover {\n",
              "    background-color: var(--disabled-bg-color);\n",
              "    fill: var(--disabled-fill-color);\n",
              "    box-shadow: none;\n",
              "  }\n",
              "\n",
              "  .colab-df-spinner {\n",
              "    border: 2px solid var(--fill-color);\n",
              "    border-color: transparent;\n",
              "    border-bottom-color: var(--fill-color);\n",
              "    animation:\n",
              "      spin 1s steps(1) infinite;\n",
              "  }\n",
              "\n",
              "  @keyframes spin {\n",
              "    0% {\n",
              "      border-color: transparent;\n",
              "      border-bottom-color: var(--fill-color);\n",
              "      border-left-color: var(--fill-color);\n",
              "    }\n",
              "    20% {\n",
              "      border-color: transparent;\n",
              "      border-left-color: var(--fill-color);\n",
              "      border-top-color: var(--fill-color);\n",
              "    }\n",
              "    30% {\n",
              "      border-color: transparent;\n",
              "      border-left-color: var(--fill-color);\n",
              "      border-top-color: var(--fill-color);\n",
              "      border-right-color: var(--fill-color);\n",
              "    }\n",
              "    40% {\n",
              "      border-color: transparent;\n",
              "      border-right-color: var(--fill-color);\n",
              "      border-top-color: var(--fill-color);\n",
              "    }\n",
              "    60% {\n",
              "      border-color: transparent;\n",
              "      border-right-color: var(--fill-color);\n",
              "    }\n",
              "    80% {\n",
              "      border-color: transparent;\n",
              "      border-right-color: var(--fill-color);\n",
              "      border-bottom-color: var(--fill-color);\n",
              "    }\n",
              "    90% {\n",
              "      border-color: transparent;\n",
              "      border-bottom-color: var(--fill-color);\n",
              "    }\n",
              "  }\n",
              "</style>\n",
              "\n",
              "  <script>\n",
              "    async function quickchart(key) {\n",
              "      const quickchartButtonEl =\n",
              "        document.querySelector('#' + key + ' button');\n",
              "      quickchartButtonEl.disabled = true;  // To prevent multiple clicks.\n",
              "      quickchartButtonEl.classList.add('colab-df-spinner');\n",
              "      try {\n",
              "        const charts = await google.colab.kernel.invokeFunction(\n",
              "            'suggestCharts', [key], {});\n",
              "      } catch (error) {\n",
              "        console.error('Error during call to suggestCharts:', error);\n",
              "      }\n",
              "      quickchartButtonEl.classList.remove('colab-df-spinner');\n",
              "      quickchartButtonEl.classList.add('colab-df-quickchart-complete');\n",
              "    }\n",
              "    (() => {\n",
              "      let quickchartButtonEl =\n",
              "        document.querySelector('#df-e1eb08e4-1707-4d8e-80a1-5dbd4e536676 button');\n",
              "      quickchartButtonEl.style.display =\n",
              "        google.colab.kernel.accessAllowed ? 'block' : 'none';\n",
              "    })();\n",
              "  </script>\n",
              "</div>\n",
              "    </div>\n",
              "  </div>\n"
            ]
          },
          "metadata": {},
          "execution_count": 10
        }
      ]
    },
    {
      "cell_type": "markdown",
      "source": [
        "Converting the Important feature making their tokens"
      ],
      "metadata": {
        "id": "sHM_QbEiF8gC"
      }
    },
    {
      "cell_type": "code",
      "source": [
        "cm = CountVectorizer().fit_transform(test['Important Features'])\n",
        "print(cm)"
      ],
      "metadata": {
        "id": "9ujSj9ddETNT"
      },
      "execution_count": null,
      "outputs": []
    },
    {
      "cell_type": "markdown",
      "source": [
        "Making the cosine similarity matrix for Recommendation purpose"
      ],
      "metadata": {
        "id": "GcFD50iwdJxk"
      }
    },
    {
      "cell_type": "code",
      "source": [
        "cs = cosine_similarity(cm)\n",
        "print(cs, cs.shape)"
      ],
      "metadata": {
        "id": "l9weApsLH2vm",
        "colab": {
          "base_uri": "https://localhost:8080/"
        },
        "outputId": "54c24cb8-7c06-41c2-9fa6-7fbcb0bbd04d"
      },
      "execution_count": null,
      "outputs": [
        {
          "output_type": "stream",
          "name": "stdout",
          "text": [
            "[[1.         0.         0.         ... 0.11111111 0.         0.        ]\n",
            " [0.         1.         0.         ... 0.         0.         0.        ]\n",
            " [0.         0.         1.         ... 0.         0.         0.        ]\n",
            " ...\n",
            " [0.11111111 0.         0.         ... 1.         0.         0.        ]\n",
            " [0.         0.         0.         ... 0.         1.         0.        ]\n",
            " [0.         0.         0.         ... 0.         0.         1.        ]] (13007, 13007)\n"
          ]
        }
      ]
    },
    {
      "cell_type": "markdown",
      "source": [
        "Taking a sample movie name and finding its movie id"
      ],
      "metadata": {
        "id": "tA3IgmjPdUuT"
      }
    },
    {
      "cell_type": "code",
      "source": [
        "test_movie = 'Tartuffe'\n",
        "movie_id = test[test.originalTitle == test_movie].index.values[0]\n",
        "movie_id"
      ],
      "metadata": {
        "id": "piUZTDzfIV8u",
        "colab": {
          "base_uri": "https://localhost:8080/"
        },
        "outputId": "800f061b-9ce3-419b-8b0c-ca584bf793ae"
      },
      "execution_count": null,
      "outputs": [
        {
          "output_type": "execute_result",
          "data": {
            "text/plain": [
              "8"
            ]
          },
          "metadata": {},
          "execution_count": 13
        }
      ]
    },
    {
      "cell_type": "markdown",
      "source": [
        "cs is an array so we will enumerate function to iterate and also index value"
      ],
      "metadata": {
        "id": "DsigYQlNKHNR"
      }
    },
    {
      "cell_type": "code",
      "source": [
        "scores = list(enumerate(cs[movie_id]))\n",
        "scores"
      ],
      "metadata": {
        "id": "Igt11K5SJbMq"
      },
      "execution_count": null,
      "outputs": []
    },
    {
      "cell_type": "markdown",
      "source": [
        "So the movie id which is taken for sample purpose finding its cosine_similarity row and sorting the values in reverse order to get, which movie should be recommended"
      ],
      "metadata": {
        "id": "jn-rdhALdh7a"
      }
    },
    {
      "cell_type": "code",
      "source": [
        "sorted_score = sorted(scores, key=lambda x:x[1], reverse=True)\n",
        "sorted_score[1:]"
      ],
      "metadata": {
        "id": "LNu0yxOMKdhE"
      },
      "execution_count": null,
      "outputs": []
    },
    {
      "cell_type": "markdown",
      "source": [
        "Searching the top 5 movies similar to the sample movie which has taken and printing the top 5 similary movies"
      ],
      "metadata": {
        "id": "s2EpMzMld-tL"
      }
    },
    {
      "cell_type": "code",
      "source": [
        "j=0\n",
        "for item in sorted_score[1:]:\n",
        "    movie_title = test[test.index == item[0]]['originalTitle'].values[0]\n",
        "    print(j+1, movie_title)\n",
        "    j+=1\n",
        "    if j>=5:\n",
        "        break"
      ],
      "metadata": {
        "id": "vG4XFgnELIr7",
        "colab": {
          "base_uri": "https://localhost:8080/"
        },
        "outputId": "52e01ad9-a7f9-4400-b7e4-33fe3c9e580a"
      },
      "execution_count": null,
      "outputs": [
        {
          "output_type": "stream",
          "name": "stdout",
          "text": [
            "1 Tartuffe\n",
            "2 J.S.I.D.\n",
            "3 A bünös\n",
            "4 D.A.Z.E.D\n",
            "5 C.Q.\n"
          ]
        }
      ]
    },
    {
      "cell_type": "code",
      "source": [
        "# create a function that take name of the movie from the user generate 5 recommendation based on that\n",
        "# note that name of the movie should be present in the data on which the model is trained."
      ],
      "metadata": {
        "id": "JRmpeEe9MElK"
      },
      "execution_count": null,
      "outputs": []
    },
    {
      "cell_type": "markdown",
      "source": [
        "create a function that take name of the movie from the user generate 5 recommendation based on that.\n",
        "\n",
        "\n",
        "Note that name of the movie should be present in the data on which the model is trained."
      ],
      "metadata": {
        "id": "yK7WYqs9eN5y"
      }
    },
    {
      "cell_type": "code",
      "source": [
        "def recommend_movie(movie):\n",
        "    try:\n",
        "        movie_id = test[test.originalTitle == movie].index.values[0]\n",
        "        scores = list(enumerate(cs[movie_id]))\n",
        "        sorted_score = sorted(scores, key=lambda x:x[1], reverse=True)\n",
        "        print(\"\\nTop 5 similar movies to \", movie,' are: ')\n",
        "        j=0\n",
        "        for item in sorted_score[1:]:\n",
        "            movie_title = test[test.index == item[0]]['originalTitle'].values[0]\n",
        "            print(j+1, movie_title)\n",
        "            j+=1\n",
        "            if j>=5:\n",
        "                break\n",
        "    except:\n",
        "        print(\"Sorry unrecognised movie, Try Again\")"
      ],
      "metadata": {
        "id": "SYS--j1CM4mA"
      },
      "execution_count": null,
      "outputs": []
    },
    {
      "cell_type": "code",
      "source": [
        "while True:\n",
        "    print(\"\\nPress 1 for movie similar movie\\nAny other number to exit\\n\")\n",
        "    choice = int(input(\"Enter your choice: \"))\n",
        "    if choice == 1:\n",
        "        movie_name = input(\"Enter the movie: \")\n",
        "        recommend_movie(movie_name)\n",
        "    else:\n",
        "        break"
      ],
      "metadata": {
        "id": "3I_uxKSGY6lq",
        "colab": {
          "base_uri": "https://localhost:8080/"
        },
        "outputId": "78ad63ad-9a98-423e-8ff9-aa3727f90abf"
      },
      "execution_count": null,
      "outputs": [
        {
          "name": "stdout",
          "output_type": "stream",
          "text": [
            "\n",
            "Press 1 for movie similar movie\n",
            "Any other number to exit\n",
            "\n",
            "Enter your choice: 3\n"
          ]
        }
      ]
    },
    {
      "cell_type": "code",
      "source": [],
      "metadata": {
        "id": "HLFXdcSjbrEm"
      },
      "execution_count": null,
      "outputs": []
    }
  ]
}